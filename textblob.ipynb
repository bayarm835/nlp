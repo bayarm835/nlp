{
 "cells": [
  {
   "cell_type": "code",
   "execution_count": 7,
   "metadata": {},
   "outputs": [
    {
     "name": "stdout",
     "output_type": "stream",
     "text": [
      "['If', 'you', 'can', 'force', 'your', 'heart', 'and', 'nerve', 'and', 'sinew', 'to', 'serve', 'your', 'turn', 'long', 'after', 'they', 'are', 'gone', 'And', 'so', 'hold', 'on', 'when', 'there', 'is', 'nothing', 'in', 'you', 'except', 'the', 'Will', 'which', 'says', 'to', 'them', \"'Hold\", 'on']\n",
      "38\n"
     ]
    }
   ],
   "source": [
    "from textblob import TextBlob\n",
    "\n",
    "corpus = '''If you can force your heart and nerve and sinew to serve your turn long after they are gone. And so hold on when there is nothing in you except the Will which says to them: 'Hold on!'\n",
    "'''\n",
    "\n",
    "blob_object = TextBlob(corpus)\n",
    "\n",
    "# Word tokenization of the sample corpus\n",
    "corpus_words = blob_object.words\n",
    "# To see all tokens\n",
    "print(corpus_words)\n",
    "# To count the number of tokens\n",
    "print(len(corpus_words))"
   ]
  },
  {
   "cell_type": "code",
   "execution_count": 8,
   "metadata": {},
   "outputs": [
    {
     "name": "stdout",
     "output_type": "stream",
     "text": [
      "[\"If you can force your heart and nerve and sinew to serve your turn long after they are gone. And so hold on when there is nothing in you except the Will which says to them: 'Hold on!'\\n\"]\n"
     ]
    }
   ],
   "source": [
    "from nltk.tokenize import TabTokenizer\n",
    "\n",
    "tokenizer = TabTokenizer()\n",
    "blob_object = TextBlob(corpus, tokenizer = tokenizer)\n",
    "\n",
    "# Word tokenization of the sample corpus\n",
    "corpus_words = blob_object.tokens\n",
    "# To see all tokens\n",
    "print(corpus_words)"
   ]
  },
  {
   "cell_type": "code",
   "execution_count": 9,
   "metadata": {},
   "outputs": [
    {
     "name": "stdout",
     "output_type": "stream",
     "text": [
      "[Sentence(\"If you can force your heart and nerve and sinew to serve your turn long after they are gone.\"), Sentence(\"And so hold on when there is nothing in you except the Will which says to them: 'Hold on!'\")]\n",
      "2\n"
     ]
    }
   ],
   "source": [
    "blob_object = TextBlob(corpus)\n",
    "\n",
    "# Sentence tokenization of the sample corpus\n",
    "corpus_sentence = blob_object.sentences\n",
    "# To identify all tokens\n",
    "print(corpus_sentence)\n",
    "# To count the number of tokens\n",
    "print(len(corpus_sentence))"
   ]
  }
 ],
 "metadata": {
  "kernelspec": {
   "display_name": "opencv2",
   "language": "python",
   "name": "python3"
  },
  "language_info": {
   "codemirror_mode": {
    "name": "ipython",
    "version": 3
   },
   "file_extension": ".py",
   "mimetype": "text/x-python",
   "name": "python",
   "nbconvert_exporter": "python",
   "pygments_lexer": "ipython3",
   "version": "3.11.0"
  }
 },
 "nbformat": 4,
 "nbformat_minor": 2
}
